{
 "cells": [
  {
   "cell_type": "code",
   "execution_count": 11,
   "metadata": {},
   "outputs": [
    {
     "name": "stdout",
     "output_type": "stream",
     "text": [
      "[1, 2, 4, 5, [], 6]\n"
     ]
    },
    {
     "ename": "AttributeError",
     "evalue": "'list' object has no attribute 'ndim'",
     "output_type": "error",
     "traceback": [
      "\u001b[1;31m---------------------------------------------------------------------------\u001b[0m",
      "\u001b[1;31mAttributeError\u001b[0m                            Traceback (most recent call last)",
      "Cell \u001b[1;32mIn[11], line 5\u001b[0m\n\u001b[0;32m      2\u001b[0m \u001b[39mprint\u001b[39m(a)\n\u001b[0;32m      4\u001b[0m \u001b[39mimport\u001b[39;00m \u001b[39mlibrosa\u001b[39;00m\n\u001b[1;32m----> 5\u001b[0m aa,_\u001b[39m=\u001b[39mlibrosa\u001b[39m.\u001b[39;49meffects\u001b[39m.\u001b[39;49mtrim(a)\n",
      "File \u001b[1;32mc:\\ProgramData\\Anaconda3\\envs\\YR\\lib\\site-packages\\librosa\\util\\decorators.py:88\u001b[0m, in \u001b[0;36mdeprecate_positional_args.<locals>._inner_deprecate_positional_args.<locals>.inner_f\u001b[1;34m(*args, **kwargs)\u001b[0m\n\u001b[0;32m     86\u001b[0m extra_args \u001b[39m=\u001b[39m \u001b[39mlen\u001b[39m(args) \u001b[39m-\u001b[39m \u001b[39mlen\u001b[39m(all_args)\n\u001b[0;32m     87\u001b[0m \u001b[39mif\u001b[39;00m extra_args \u001b[39m<\u001b[39m\u001b[39m=\u001b[39m \u001b[39m0\u001b[39m:\n\u001b[1;32m---> 88\u001b[0m     \u001b[39mreturn\u001b[39;00m f(\u001b[39m*\u001b[39margs, \u001b[39m*\u001b[39m\u001b[39m*\u001b[39mkwargs)\n\u001b[0;32m     90\u001b[0m \u001b[39m# extra_args > 0\u001b[39;00m\n\u001b[0;32m     91\u001b[0m args_msg \u001b[39m=\u001b[39m [\n\u001b[0;32m     92\u001b[0m     \u001b[39m\"\u001b[39m\u001b[39m{}\u001b[39;00m\u001b[39m=\u001b[39m\u001b[39m{}\u001b[39;00m\u001b[39m\"\u001b[39m\u001b[39m.\u001b[39mformat(name, arg)\n\u001b[0;32m     93\u001b[0m     \u001b[39mfor\u001b[39;00m name, arg \u001b[39min\u001b[39;00m \u001b[39mzip\u001b[39m(kwonly_args[:extra_args], args[\u001b[39m-\u001b[39mextra_args:])\n\u001b[0;32m     94\u001b[0m ]\n",
      "File \u001b[1;32mc:\\ProgramData\\Anaconda3\\envs\\YR\\lib\\site-packages\\librosa\\effects.py:498\u001b[0m, in \u001b[0;36mtrim\u001b[1;34m(y, top_db, ref, frame_length, hop_length, aggregate)\u001b[0m\n\u001b[0;32m    455\u001b[0m \u001b[39m@deprecate_positional_args\u001b[39m\n\u001b[0;32m    456\u001b[0m \u001b[39mdef\u001b[39;00m \u001b[39mtrim\u001b[39m(\n\u001b[0;32m    457\u001b[0m     y, \u001b[39m*\u001b[39m, top_db\u001b[39m=\u001b[39m\u001b[39m60\u001b[39m, ref\u001b[39m=\u001b[39mnp\u001b[39m.\u001b[39mmax, frame_length\u001b[39m=\u001b[39m\u001b[39m2048\u001b[39m, hop_length\u001b[39m=\u001b[39m\u001b[39m512\u001b[39m, aggregate\u001b[39m=\u001b[39mnp\u001b[39m.\u001b[39mmax\n\u001b[0;32m    458\u001b[0m ):\n\u001b[0;32m    459\u001b[0m     \u001b[39m\"\"\"Trim leading and trailing silence from an audio signal.\u001b[39;00m\n\u001b[0;32m    460\u001b[0m \n\u001b[0;32m    461\u001b[0m \u001b[39m    Parameters\u001b[39;00m\n\u001b[1;32m   (...)\u001b[0m\n\u001b[0;32m    495\u001b[0m \u001b[39m    25.025986394557822 25.007891156462584\u001b[39;00m\n\u001b[0;32m    496\u001b[0m \u001b[39m    \"\"\"\u001b[39;00m\n\u001b[1;32m--> 498\u001b[0m     non_silent \u001b[39m=\u001b[39m _signal_to_frame_nonsilent(\n\u001b[0;32m    499\u001b[0m         y,\n\u001b[0;32m    500\u001b[0m         frame_length\u001b[39m=\u001b[39;49mframe_length,\n\u001b[0;32m    501\u001b[0m         hop_length\u001b[39m=\u001b[39;49mhop_length,\n\u001b[0;32m    502\u001b[0m         ref\u001b[39m=\u001b[39;49mref,\n\u001b[0;32m    503\u001b[0m         top_db\u001b[39m=\u001b[39;49mtop_db,\n\u001b[0;32m    504\u001b[0m         aggregate\u001b[39m=\u001b[39;49maggregate,\n\u001b[0;32m    505\u001b[0m     )\n\u001b[0;32m    507\u001b[0m     nonzero \u001b[39m=\u001b[39m np\u001b[39m.\u001b[39mflatnonzero(non_silent)\n\u001b[0;32m    509\u001b[0m     \u001b[39mif\u001b[39;00m nonzero\u001b[39m.\u001b[39msize \u001b[39m>\u001b[39m \u001b[39m0\u001b[39m:\n\u001b[0;32m    510\u001b[0m         \u001b[39m# Compute the start and end positions\u001b[39;00m\n\u001b[0;32m    511\u001b[0m         \u001b[39m# End position goes one frame past the last non-zero\u001b[39;00m\n",
      "File \u001b[1;32mc:\\ProgramData\\Anaconda3\\envs\\YR\\lib\\site-packages\\librosa\\effects.py:440\u001b[0m, in \u001b[0;36m_signal_to_frame_nonsilent\u001b[1;34m(y, frame_length, hop_length, top_db, ref, aggregate)\u001b[0m\n\u001b[0;32m    406\u001b[0m \u001b[39m\"\"\"Frame-wise non-silent indicator for audio input.\u001b[39;00m\n\u001b[0;32m    407\u001b[0m \n\u001b[0;32m    408\u001b[0m \u001b[39mThis is a helper function for `trim` and `split`.\u001b[39;00m\n\u001b[1;32m   (...)\u001b[0m\n\u001b[0;32m    436\u001b[0m \u001b[39m    Indicator of non-silent frames\u001b[39;00m\n\u001b[0;32m    437\u001b[0m \u001b[39m\"\"\"\u001b[39;00m\n\u001b[0;32m    439\u001b[0m \u001b[39m# Compute the MSE for the signal\u001b[39;00m\n\u001b[1;32m--> 440\u001b[0m mse \u001b[39m=\u001b[39m feature\u001b[39m.\u001b[39;49mrms(y\u001b[39m=\u001b[39;49my, frame_length\u001b[39m=\u001b[39;49mframe_length, hop_length\u001b[39m=\u001b[39;49mhop_length)\n\u001b[0;32m    442\u001b[0m \u001b[39m# Convert to decibels and slice out the mse channel\u001b[39;00m\n\u001b[0;32m    443\u001b[0m db \u001b[39m=\u001b[39m core\u001b[39m.\u001b[39mamplitude_to_db(mse[\u001b[39m.\u001b[39m\u001b[39m.\u001b[39m\u001b[39m.\u001b[39m, \u001b[39m0\u001b[39m, :], ref\u001b[39m=\u001b[39mref, top_db\u001b[39m=\u001b[39m\u001b[39mNone\u001b[39;00m)\n",
      "File \u001b[1;32mc:\\ProgramData\\Anaconda3\\envs\\YR\\lib\\site-packages\\librosa\\util\\decorators.py:88\u001b[0m, in \u001b[0;36mdeprecate_positional_args.<locals>._inner_deprecate_positional_args.<locals>.inner_f\u001b[1;34m(*args, **kwargs)\u001b[0m\n\u001b[0;32m     86\u001b[0m extra_args \u001b[39m=\u001b[39m \u001b[39mlen\u001b[39m(args) \u001b[39m-\u001b[39m \u001b[39mlen\u001b[39m(all_args)\n\u001b[0;32m     87\u001b[0m \u001b[39mif\u001b[39;00m extra_args \u001b[39m<\u001b[39m\u001b[39m=\u001b[39m \u001b[39m0\u001b[39m:\n\u001b[1;32m---> 88\u001b[0m     \u001b[39mreturn\u001b[39;00m f(\u001b[39m*\u001b[39margs, \u001b[39m*\u001b[39m\u001b[39m*\u001b[39mkwargs)\n\u001b[0;32m     90\u001b[0m \u001b[39m# extra_args > 0\u001b[39;00m\n\u001b[0;32m     91\u001b[0m args_msg \u001b[39m=\u001b[39m [\n\u001b[0;32m     92\u001b[0m     \u001b[39m\"\u001b[39m\u001b[39m{}\u001b[39;00m\u001b[39m=\u001b[39m\u001b[39m{}\u001b[39;00m\u001b[39m\"\u001b[39m\u001b[39m.\u001b[39mformat(name, arg)\n\u001b[0;32m     93\u001b[0m     \u001b[39mfor\u001b[39;00m name, arg \u001b[39min\u001b[39;00m \u001b[39mzip\u001b[39m(kwonly_args[:extra_args], args[\u001b[39m-\u001b[39mextra_args:])\n\u001b[0;32m     94\u001b[0m ]\n",
      "File \u001b[1;32mc:\\ProgramData\\Anaconda3\\envs\\YR\\lib\\site-packages\\librosa\\feature\\spectral.py:948\u001b[0m, in \u001b[0;36mrms\u001b[1;34m(y, S, frame_length, hop_length, center, pad_mode)\u001b[0m\n\u001b[0;32m    946\u001b[0m \u001b[39mif\u001b[39;00m y \u001b[39mis\u001b[39;00m \u001b[39mnot\u001b[39;00m \u001b[39mNone\u001b[39;00m:\n\u001b[0;32m    947\u001b[0m     \u001b[39mif\u001b[39;00m center:\n\u001b[1;32m--> 948\u001b[0m         padding \u001b[39m=\u001b[39m [(\u001b[39m0\u001b[39m, \u001b[39m0\u001b[39m) \u001b[39mfor\u001b[39;00m _ \u001b[39min\u001b[39;00m \u001b[39mrange\u001b[39m(y\u001b[39m.\u001b[39;49mndim)]\n\u001b[0;32m    949\u001b[0m         padding[\u001b[39m-\u001b[39m\u001b[39m1\u001b[39m] \u001b[39m=\u001b[39m (\u001b[39mint\u001b[39m(frame_length \u001b[39m/\u001b[39m\u001b[39m/\u001b[39m \u001b[39m2\u001b[39m), \u001b[39mint\u001b[39m(frame_length \u001b[39m/\u001b[39m\u001b[39m/\u001b[39m \u001b[39m2\u001b[39m))\n\u001b[0;32m    950\u001b[0m         y \u001b[39m=\u001b[39m np\u001b[39m.\u001b[39mpad(y, padding, mode\u001b[39m=\u001b[39mpad_mode)\n",
      "\u001b[1;31mAttributeError\u001b[0m: 'list' object has no attribute 'ndim'"
     ]
    }
   ],
   "source": [
    "a=[1, 2, 4 , 5 ,[] ,6]\n",
    "print(a)\n",
    "\n",
    "import librosa\n",
    "aa,_=librosa.effects.trim(a)"
   ]
  }
 ],
 "metadata": {
  "kernelspec": {
   "display_name": "YR",
   "language": "python",
   "name": "python3"
  },
  "language_info": {
   "codemirror_mode": {
    "name": "ipython",
    "version": 3
   },
   "file_extension": ".py",
   "mimetype": "text/x-python",
   "name": "python",
   "nbconvert_exporter": "python",
   "pygments_lexer": "ipython3",
   "version": "3.10.8 | packaged by conda-forge | (main, Nov 24 2022, 14:07:00) [MSC v.1916 64 bit (AMD64)]"
  },
  "orig_nbformat": 4,
  "vscode": {
   "interpreter": {
    "hash": "f98b6de47e45c0c2e82a5fa9e009243ba98ceceb42e289a1dc259a9ce58f3f1a"
   }
  }
 },
 "nbformat": 4,
 "nbformat_minor": 2
}
